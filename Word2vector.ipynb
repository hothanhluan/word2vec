{
 "cells": [
  {
   "cell_type": "code",
   "execution_count": 2,
   "metadata": {},
   "outputs": [],
   "source": [
    "import pandas as pd \n",
    "import re\n"
   ]
  },
  {
   "cell_type": "code",
   "execution_count": 30,
   "metadata": {},
   "outputs": [
    {
     "data": {
      "text/html": [
       "<div>\n",
       "<style>\n",
       "    .dataframe thead tr:only-child th {\n",
       "        text-align: right;\n",
       "    }\n",
       "\n",
       "    .dataframe thead th {\n",
       "        text-align: left;\n",
       "    }\n",
       "\n",
       "    .dataframe tbody tr th {\n",
       "        vertical-align: top;\n",
       "    }\n",
       "</style>\n",
       "<table border=\"1\" class=\"dataframe\">\n",
       "  <thead>\n",
       "    <tr style=\"text-align: right;\">\n",
       "      <th></th>\n",
       "      <th>row</th>\n",
       "    </tr>\n",
       "  </thead>\n",
       "  <tbody>\n",
       "    <tr>\n",
       "      <th>0</th>\n",
       "      <td>Her latest film ....... its object in a very s...</td>\n",
       "    </tr>\n",
       "    <tr>\n",
       "      <th>1</th>\n",
       "      <td>(a) acquired (b) got (c) attained (d) controlled</td>\n",
       "    </tr>\n",
       "    <tr>\n",
       "      <th>2</th>\n",
       "      <td>The critics ....... to praise the work of this...</td>\n",
       "    </tr>\n",
       "    <tr>\n",
       "      <th>3</th>\n",
       "      <td>(a) run (b) continue (c) persist (d) insist</td>\n",
       "    </tr>\n",
       "    <tr>\n",
       "      <th>4</th>\n",
       "      <td>The film was the first to show conditions in w...</td>\n",
       "    </tr>\n",
       "    <tr>\n",
       "      <th>5</th>\n",
       "      <td>(a) influence (b) hold (c) infect (d) show</td>\n",
       "    </tr>\n",
       "    <tr>\n",
       "      <th>6</th>\n",
       "      <td>The only reason for them going to the cinema o...</td>\n",
       "    </tr>\n",
       "    <tr>\n",
       "      <th>7</th>\n",
       "      <td>(a) internment (b) involvement (c) engrossment...</td>\n",
       "    </tr>\n",
       "    <tr>\n",
       "      <th>8</th>\n",
       "      <td>The director's intention in making the film wa...</td>\n",
       "    </tr>\n",
       "    <tr>\n",
       "      <th>9</th>\n",
       "      <td>(a) report (b) reprehend (c) represent (d) com...</td>\n",
       "    </tr>\n",
       "  </tbody>\n",
       "</table>\n",
       "</div>"
      ],
      "text/plain": [
       "                                                 row\n",
       "0  Her latest film ....... its object in a very s...\n",
       "1   (a) acquired (b) got (c) attained (d) controlled\n",
       "2  The critics ....... to praise the work of this...\n",
       "3        (a) run (b) continue (c) persist (d) insist\n",
       "4  The film was the first to show conditions in w...\n",
       "5         (a) influence (b) hold (c) infect (d) show\n",
       "6  The only reason for them going to the cinema o...\n",
       "7  (a) internment (b) involvement (c) engrossment...\n",
       "8  The director's intention in making the film wa...\n",
       "9  (a) report (b) reprehend (c) represent (d) com..."
      ]
     },
     "execution_count": 30,
     "metadata": {},
     "output_type": "execute_result"
    }
   ],
   "source": [
    "df = pd.read_csv(\"/home/luanho/Documents/toeic_test.txt\" ,sep=\"/\", names=[\"row\"]).dropna()\n",
    "df.head(10)"
   ]
  },
  {
   "cell_type": "code",
   "execution_count": 31,
   "metadata": {},
   "outputs": [
    {
     "data": {
      "text/html": [
       "<div>\n",
       "<style>\n",
       "    .dataframe thead tr:only-child th {\n",
       "        text-align: right;\n",
       "    }\n",
       "\n",
       "    .dataframe thead th {\n",
       "        text-align: left;\n",
       "    }\n",
       "\n",
       "    .dataframe tbody tr th {\n",
       "        vertical-align: top;\n",
       "    }\n",
       "</style>\n",
       "<table border=\"1\" class=\"dataframe\">\n",
       "  <thead>\n",
       "    <tr style=\"text-align: right;\">\n",
       "      <th></th>\n",
       "      <th>row</th>\n",
       "    </tr>\n",
       "  </thead>\n",
       "  <tbody>\n",
       "    <tr>\n",
       "      <th>0</th>\n",
       "      <td>Her latest film         its object in a very s...</td>\n",
       "    </tr>\n",
       "    <tr>\n",
       "      <th>1</th>\n",
       "      <td>(a) acquired (b) got (c) attained (d) controlled</td>\n",
       "    </tr>\n",
       "    <tr>\n",
       "      <th>2</th>\n",
       "      <td>The critics         to praise the work of this...</td>\n",
       "    </tr>\n",
       "    <tr>\n",
       "      <th>3</th>\n",
       "      <td>(a) run (b) continue (c) persist (d) insist</td>\n",
       "    </tr>\n",
       "    <tr>\n",
       "      <th>4</th>\n",
       "      <td>The film was the first to show conditions in w...</td>\n",
       "    </tr>\n",
       "    <tr>\n",
       "      <th>5</th>\n",
       "      <td>(a) influence (b) hold (c) infect (d) show</td>\n",
       "    </tr>\n",
       "    <tr>\n",
       "      <th>6</th>\n",
       "      <td>The only reason for them going to the cinema o...</td>\n",
       "    </tr>\n",
       "    <tr>\n",
       "      <th>7</th>\n",
       "      <td>(a) internment (b) involvement (c) engrossment...</td>\n",
       "    </tr>\n",
       "    <tr>\n",
       "      <th>8</th>\n",
       "      <td>The director s intention in making the film wa...</td>\n",
       "    </tr>\n",
       "    <tr>\n",
       "      <th>9</th>\n",
       "      <td>(a) report (b) reprehend (c) represent (d) com...</td>\n",
       "    </tr>\n",
       "  </tbody>\n",
       "</table>\n",
       "</div>"
      ],
      "text/plain": [
       "                                                 row\n",
       "0  Her latest film         its object in a very s...\n",
       "1   (a) acquired (b) got (c) attained (d) controlled\n",
       "2  The critics         to praise the work of this...\n",
       "3        (a) run (b) continue (c) persist (d) insist\n",
       "4  The film was the first to show conditions in w...\n",
       "5         (a) influence (b) hold (c) infect (d) show\n",
       "6  The only reason for them going to the cinema o...\n",
       "7  (a) internment (b) involvement (c) engrossment...\n",
       "8  The director s intention in making the film wa...\n",
       "9  (a) report (b) reprehend (c) represent (d) com..."
      ]
     },
     "execution_count": 31,
     "metadata": {},
     "output_type": "execute_result"
    }
   ],
   "source": [
    "\n",
    "\n",
    "def transform_row(row):\n",
    "    # Xóa số dòng ở đầu câu\n",
    "    row = re.sub(r\"^[0-9\\.]+\", \"\", row)\n",
    "    \n",
    "    # Xóa dấu chấm, phẩy, hỏi ở cuối câu\n",
    "    row = re.sub(r\"[\\.,\\?]+$\", \"\", row)\n",
    "    \n",
    "    # Xóa tất cả dấu chấm, phẩy, chấm phẩy, chấm thang, ... trong câu\n",
    "    row = row.replace(\",\", \" \").replace(\".\", \" \") \\\n",
    "        .replace(\";\", \" \").replace(\"“\", \" \") \\\n",
    "        .replace(\":\", \" \").replace(\"”\", \" \") \\\n",
    "        .replace('\"', \" \").replace(\"'\", \" \") \\\n",
    "        .replace(\"!\", \" \").replace(\"?\", \" \")\n",
    "    \n",
    "    row = row.strip()\n",
    "    return row \n",
    "\n",
    "df[\"row\"] = df.row.apply(transform_row)\n",
    "df.head(10)"
   ]
  },
  {
   "cell_type": "code",
   "execution_count": 32,
   "metadata": {},
   "outputs": [
    {
     "data": {
      "text/html": [
       "<div>\n",
       "<style>\n",
       "    .dataframe thead tr:only-child th {\n",
       "        text-align: right;\n",
       "    }\n",
       "\n",
       "    .dataframe thead th {\n",
       "        text-align: left;\n",
       "    }\n",
       "\n",
       "    .dataframe tbody tr th {\n",
       "        vertical-align: top;\n",
       "    }\n",
       "</style>\n",
       "<table border=\"1\" class=\"dataframe\">\n",
       "  <thead>\n",
       "    <tr style=\"text-align: right;\">\n",
       "      <th></th>\n",
       "      <th>row</th>\n",
       "      <th>1gram</th>\n",
       "      <th>2gram</th>\n",
       "    </tr>\n",
       "  </thead>\n",
       "  <tbody>\n",
       "    <tr>\n",
       "      <th>0</th>\n",
       "      <td>Her latest film         its object in a very s...</td>\n",
       "      <td>[her, latest, film, its, object, in, a, very, ...</td>\n",
       "      <td>[her latest, latest film, film its, its object...</td>\n",
       "    </tr>\n",
       "    <tr>\n",
       "      <th>1</th>\n",
       "      <td>(a) acquired (b) got (c) attained (d) controlled</td>\n",
       "      <td>[(a), acquired, (b), got, (c), attained, (d), ...</td>\n",
       "      <td>[(a) acquired, acquired (b), (b) got, got (c),...</td>\n",
       "    </tr>\n",
       "    <tr>\n",
       "      <th>2</th>\n",
       "      <td>The critics         to praise the work of this...</td>\n",
       "      <td>[the, critics, to, praise, the, work, of, this...</td>\n",
       "      <td>[the critics, critics to, to praise, praise th...</td>\n",
       "    </tr>\n",
       "    <tr>\n",
       "      <th>3</th>\n",
       "      <td>(a) run (b) continue (c) persist (d) insist</td>\n",
       "      <td>[(a), run, (b), continue, (c), persist, (d), i...</td>\n",
       "      <td>[(a) run, run (b), (b) continue, continue (c),...</td>\n",
       "    </tr>\n",
       "    <tr>\n",
       "      <th>4</th>\n",
       "      <td>The film was the first to show conditions in w...</td>\n",
       "      <td>[the, film, was, the, first, to, show, conditi...</td>\n",
       "      <td>[the film, film was, was the, the first, first...</td>\n",
       "    </tr>\n",
       "    <tr>\n",
       "      <th>5</th>\n",
       "      <td>(a) influence (b) hold (c) infect (d) show</td>\n",
       "      <td>[(a), influence, (b), hold, (c), infect, (d), ...</td>\n",
       "      <td>[(a) influence, influence (b), (b) hold, hold ...</td>\n",
       "    </tr>\n",
       "    <tr>\n",
       "      <th>6</th>\n",
       "      <td>The only reason for them going to the cinema o...</td>\n",
       "      <td>[the, only, reason, for, them, going, to, the,...</td>\n",
       "      <td>[the only, only reason, reason for, for them, ...</td>\n",
       "    </tr>\n",
       "    <tr>\n",
       "      <th>7</th>\n",
       "      <td>(a) internment (b) involvement (c) engrossment...</td>\n",
       "      <td>[(a), internment, (b), involvement, (c), engro...</td>\n",
       "      <td>[(a) internment, internment (b), (b) involveme...</td>\n",
       "    </tr>\n",
       "    <tr>\n",
       "      <th>8</th>\n",
       "      <td>The director s intention in making the film wa...</td>\n",
       "      <td>[the, director, s, intention, in, making, the,...</td>\n",
       "      <td>[the director, director s, s intention, intent...</td>\n",
       "    </tr>\n",
       "    <tr>\n",
       "      <th>9</th>\n",
       "      <td>(a) report (b) reprehend (c) represent (d) com...</td>\n",
       "      <td>[(a), report, (b), reprehend, (c), represent, ...</td>\n",
       "      <td>[(a) report, report (b), (b) reprehend, repreh...</td>\n",
       "    </tr>\n",
       "  </tbody>\n",
       "</table>\n",
       "</div>"
      ],
      "text/plain": [
       "                                                 row  \\\n",
       "0  Her latest film         its object in a very s...   \n",
       "1   (a) acquired (b) got (c) attained (d) controlled   \n",
       "2  The critics         to praise the work of this...   \n",
       "3        (a) run (b) continue (c) persist (d) insist   \n",
       "4  The film was the first to show conditions in w...   \n",
       "5         (a) influence (b) hold (c) infect (d) show   \n",
       "6  The only reason for them going to the cinema o...   \n",
       "7  (a) internment (b) involvement (c) engrossment...   \n",
       "8  The director s intention in making the film wa...   \n",
       "9  (a) report (b) reprehend (c) represent (d) com...   \n",
       "\n",
       "                                               1gram  \\\n",
       "0  [her, latest, film, its, object, in, a, very, ...   \n",
       "1  [(a), acquired, (b), got, (c), attained, (d), ...   \n",
       "2  [the, critics, to, praise, the, work, of, this...   \n",
       "3  [(a), run, (b), continue, (c), persist, (d), i...   \n",
       "4  [the, film, was, the, first, to, show, conditi...   \n",
       "5  [(a), influence, (b), hold, (c), infect, (d), ...   \n",
       "6  [the, only, reason, for, them, going, to, the,...   \n",
       "7  [(a), internment, (b), involvement, (c), engro...   \n",
       "8  [the, director, s, intention, in, making, the,...   \n",
       "9  [(a), report, (b), reprehend, (c), represent, ...   \n",
       "\n",
       "                                               2gram  \n",
       "0  [her latest, latest film, film its, its object...  \n",
       "1  [(a) acquired, acquired (b), (b) got, got (c),...  \n",
       "2  [the critics, critics to, to praise, praise th...  \n",
       "3  [(a) run, run (b), (b) continue, continue (c),...  \n",
       "4  [the film, film was, was the, the first, first...  \n",
       "5  [(a) influence, influence (b), (b) hold, hold ...  \n",
       "6  [the only, only reason, reason for, for them, ...  \n",
       "7  [(a) internment, internment (b), (b) involveme...  \n",
       "8  [the director, director s, s intention, intent...  \n",
       "9  [(a) report, report (b), (b) reprehend, repreh...  "
      ]
     },
     "execution_count": 32,
     "metadata": {},
     "output_type": "execute_result"
    }
   ],
   "source": [
    "\n",
    "\n",
    "from nltk import ngrams\n",
    "\n",
    "def kieu_ngram(string, n=1):\n",
    "    gram_str = list(ngrams(string.split(), n))\n",
    "    return [ \" \".join(gram).lower() for gram in gram_str ]\n",
    "\n",
    "df[\"1gram\"] = df.row.apply(lambda t: kieu_ngram(t, 1))\n",
    "df[\"2gram\"] = df.row.apply(lambda t: kieu_ngram(t, 2))\n",
    "\n",
    "df.head(10)\n",
    "\n"
   ]
  },
  {
   "cell_type": "code",
   "execution_count": 33,
   "metadata": {},
   "outputs": [
    {
     "name": "stdout",
     "output_type": "stream",
     "text": [
      "237\n"
     ]
    }
   ],
   "source": [
    "df[\"context\"] = df[\"1gram\"] + df[\"2gram\"]\n",
    "train_data = df.context.tolist()\n",
    "print (len(train_data))"
   ]
  },
  {
   "cell_type": "code",
   "execution_count": 7,
   "metadata": {},
   "outputs": [
    {
     "data": {
      "text/plain": [
       "0     [her, latest, film, its, object, in, a, very, ...\n",
       "1     [(a), acquired, (b), got, (c), attained, (d), ...\n",
       "2     [the, critics, to, praise, the, work, of, this...\n",
       "3     [(a), run, (b), continue, (c), persist, (d), i...\n",
       "4     [the, film, was, the, first, to, show, conditi...\n",
       "5     [(a), influence, (b), hold, (c), infect, (d), ...\n",
       "6     [the, only, reason, for, them, going, to, the,...\n",
       "7     [(a), internment, (b), involvement, (c), engro...\n",
       "8     [the, director, s, intention, in, making, the,...\n",
       "9     [(a), report, (b), reprehend, (c), represent, ...\n",
       "10    [the, fans, outside, the, cinema, on, the, fir...\n",
       "11                                               [home]\n",
       "12    [(a), dispose, (b), displace, (c), discover, (...\n",
       "13    [the, delay, in, the, film, to, the, general, ...\n",
       "14    [(a), replacing, (b), repeating, (c), releasin...\n",
       "15    [the, theme, of, the, second, film, is, quite,...\n",
       "16    [(a), construction, (b), continuation, (c), co...\n",
       "Name: context, dtype: object"
      ]
     },
     "execution_count": 7,
     "metadata": {},
     "output_type": "execute_result"
    }
   ],
   "source": [
    "df[\"context\"].head(17)"
   ]
  },
  {
   "cell_type": "code",
   "execution_count": 8,
   "metadata": {},
   "outputs": [
    {
     "name": "stderr",
     "output_type": "stream",
     "text": [
      "Using TensorFlow backend.\n",
      "2017-10-08 21:56:25,037 : INFO : collecting all words and their counts\n",
      "2017-10-08 21:56:25,040 : INFO : PROGRESS: at sentence #0, processed 0 words, keeping 0 word types\n",
      "2017-10-08 21:56:25,043 : INFO : collected 1780 word types from a corpus of 2951 raw words and 134 sentences\n",
      "2017-10-08 21:56:25,045 : INFO : Loading a fresh vocabulary\n",
      "2017-10-08 21:56:25,049 : INFO : min_count=3 retains 146 unique words (8% of original 1780, drops 1634)\n",
      "2017-10-08 21:56:25,050 : INFO : min_count=3 leaves 1194 word corpus (40% of original 2951, drops 1757)\n",
      "2017-10-08 21:56:25,053 : INFO : deleting the raw counts dictionary of 1780 items\n",
      "2017-10-08 21:56:25,056 : INFO : sample=0.001 downsamples 94 most-common words\n",
      "2017-10-08 21:56:25,058 : INFO : downsampling leaves estimated 572 word corpus (47.9% of prior 1194)\n",
      "2017-10-08 21:56:25,059 : INFO : estimated required memory for 146 words and 100 dimensions: 189800 bytes\n",
      "2017-10-08 21:56:25,061 : INFO : resetting layer weights\n",
      "2017-10-08 21:56:25,068 : INFO : training model with 2 workers on 146 vocabulary and 100 features, using sg=1 hs=0 sample=0.001 negative=5 window=5\n",
      "2017-10-08 21:56:25,108 : INFO : worker thread finished; awaiting finish of 1 more threads\n",
      "2017-10-08 21:56:25,119 : INFO : worker thread finished; awaiting finish of 0 more threads\n",
      "2017-10-08 21:56:25,121 : INFO : training on 14755 raw words (2811 effective words) took 0.0s, 60870 effective words/s\n",
      "2017-10-08 21:56:25,123 : WARNING : under 10 jobs per worker: consider setting a smaller `batch_words' for smoother alpha decay\n"
     ]
    }
   ],
   "source": [
    "\n",
    "import gensim.models.word2vec as w2v\n",
    "import logging\n",
    "\n",
    "logging.basicConfig(format='%(asctime)s : %(levelname)s : %(message)s', level=logging.INFO)    \n",
    "model = w2v.Word2Vec(train_data, size=100, window=5, min_count=3, workers=2, sg=1)"
   ]
  },
  {
   "cell_type": "code",
   "execution_count": 9,
   "metadata": {},
   "outputs": [
    {
     "name": "stderr",
     "output_type": "stream",
     "text": [
      "2017-10-08 21:56:47,928 : INFO : precomputing L2-norms of word weight vectors\n"
     ]
    },
    {
     "data": {
      "text/plain": [
       "[('the', 0.9766465425491333),\n",
       " ('and', 0.9750859141349792),\n",
       " ('you', 0.9733900427818298),\n",
       " ('this', 0.9725053906440735),\n",
       " ('to', 0.9724677205085754),\n",
       " ('was', 0.9715151190757751),\n",
       " ('film', 0.9714429378509521),\n",
       " ('is', 0.9703409075737),\n",
       " ('in', 0.9699873328208923),\n",
       " ('will', 0.9683954119682312)]"
      ]
     },
     "execution_count": 9,
     "metadata": {},
     "output_type": "execute_result"
    }
   ],
   "source": [
    "model.similar_by_word(\"her\")"
   ]
  },
  {
   "cell_type": "code",
   "execution_count": 12,
   "metadata": {},
   "outputs": [
    {
     "name": "stderr",
     "output_type": "stream",
     "text": [
      "2017-10-08 22:09:07,953 : INFO : saving Word2Vec object under /home/luanho/Documents/mymodels, separately None\n",
      "2017-10-08 22:09:07,956 : INFO : not storing attribute syn0norm\n",
      "2017-10-08 22:09:07,959 : INFO : not storing attribute cum_table\n",
      "2017-10-08 22:09:07,965 : INFO : saved /home/luanho/Documents/mymodels\n"
     ]
    }
   ],
   "source": [
    "model.save('/home/luanho/Documents/mymodels')\n"
   ]
  },
  {
   "cell_type": "code",
   "execution_count": 28,
   "metadata": {},
   "outputs": [
    {
     "name": "stderr",
     "output_type": "stream",
     "text": [
      "2017-10-08 22:31:04,598 : INFO : loading Word2Vec object from /home/luanho/Documents/mymodels\n",
      "2017-10-08 22:31:04,606 : INFO : loading wv recursively from /home/luanho/Documents/mymodels.wv.* with mmap=None\n",
      "2017-10-08 22:31:04,608 : INFO : setting ignored attribute syn0norm to None\n",
      "2017-10-08 22:31:04,609 : INFO : setting ignored attribute cum_table to None\n",
      "2017-10-08 22:31:04,610 : INFO : loaded /home/luanho/Documents/mymodels\n"
     ]
    }
   ],
   "source": [
    "import gensim\n",
    "new_model = gensim.models.Word2Vec.load('/home/luanho/Documents/mymodels')"
   ]
  },
  {
   "cell_type": "code",
   "execution_count": 29,
   "metadata": {},
   "outputs": [
    {
     "name": "stderr",
     "output_type": "stream",
     "text": [
      "2017-10-08 22:31:37,453 : INFO : precomputing L2-norms of word weight vectors\n"
     ]
    },
    {
     "data": {
      "text/plain": [
       "[('to', 0.9809765815734863),\n",
       " ('for', 0.9774883985519409),\n",
       " ('is', 0.9762264490127563),\n",
       " ('you', 0.9761451482772827),\n",
       " ('the', 0.9760264158248901),\n",
       " ('i', 0.975692868232727),\n",
       " ('about', 0.9756275415420532),\n",
       " ('was', 0.9756070375442505),\n",
       " ('that', 0.9755958914756775),\n",
       " ('in', 0.9753056764602661)]"
      ]
     },
     "execution_count": 29,
     "metadata": {},
     "output_type": "execute_result"
    }
   ],
   "source": [
    "new_model.similar_by_word('will')"
   ]
  },
  {
   "cell_type": "code",
   "execution_count": null,
   "metadata": {
    "collapsed": true
   },
   "outputs": [],
   "source": []
  }
 ],
 "metadata": {
  "kernelspec": {
   "display_name": "Python 3",
   "language": "python",
   "name": "python3"
  },
  "language_info": {
   "codemirror_mode": {
    "name": "ipython",
    "version": 3
   },
   "file_extension": ".py",
   "mimetype": "text/x-python",
   "name": "python",
   "nbconvert_exporter": "python",
   "pygments_lexer": "ipython3",
   "version": "3.5.4"
  }
 },
 "nbformat": 4,
 "nbformat_minor": 2
}
